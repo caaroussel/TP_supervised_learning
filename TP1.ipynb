{
 "cells": [
  {
   "cell_type": "code",
   "execution_count": 8,
   "id": "365ee92b",
   "metadata": {},
   "outputs": [],
   "source": [
    "import pandas as pd \n",
    "import seaborn as sns \n",
    "import matplotlib.pyplot as plt\n",
    "from numpy import ravel\n",
    "from sklearn.model_selection import cross_val_score, train_test_split\n",
    "from sklearn.utils import shuffle\n",
    "from sklearn.model_selection import GridSearchCV\n",
    "from sklearn.svm import SVC\n",
    "from sklearn.ensemble import AdaBoostClassifier, GradientBoostingClassifier, RandomForestClassifier\n",
    "from sklearn.metrics import accuracy_score, classification_report, confusion_matrix\n",
    "\n",
    "from sklearn.preprocessing import RobustScaler, OneHotEncoder\n",
    "from sklearn.pipeline import Pipeline\n",
    "from sklearn.compose import ColumnTransformer"
   ]
  },
  {
   "cell_type": "code",
   "execution_count": 3,
   "id": "7274ae8f",
   "metadata": {},
   "outputs": [],
   "source": [
    "features = pd.read_csv('acsincome_ca_features.csv')\n",
    "labels = pd.read_csv('acsincome_ca_labels.csv')"
   ]
  },
  {
   "cell_type": "code",
   "execution_count": 4,
   "id": "e6537c62",
   "metadata": {},
   "outputs": [],
   "source": [
    "# Mélanger les indices\n",
    "indices = shuffle(range(len(features)), random_state=1)\n",
    "\n",
    "# Utiliser les indices mélangés pour obtenir les nouvelles versions de X_all et y_all\n",
    "X_all = features.iloc[indices]\n",
    "y_all = labels.iloc[indices]\n",
    "\n",
    "# only use the first N samples to limit training time\n",
    "num_samples = int(len(X_all) * 0.04)\n",
    "X, y = X_all.iloc[:num_samples], y_all.iloc[:num_samples]"
   ]
  },
  {
   "cell_type": "code",
   "execution_count": 9,
   "id": "c1f0ea16",
   "metadata": {},
   "outputs": [
    {
     "data": {
      "text/plain": [
       "Pipeline(steps=[('preprocessor',\n",
       "                 ColumnTransformer(transformers=[('num', RobustScaler(),\n",
       "                                                  ['AGEP', 'WKHP']),\n",
       "                                                 ('cat',\n",
       "                                                  OneHotEncoder(handle_unknown='ignore'),\n",
       "                                                  ['COW', 'SCHL', 'MAR', 'OCCP',\n",
       "                                                   'POBP', 'RELP', 'SEX',\n",
       "                                                   'RAC1P'])])),\n",
       "                ('classifier', SVC())])"
      ]
     },
     "execution_count": 9,
     "metadata": {},
     "output_type": "execute_result"
    }
   ],
   "source": [
    "numeric_features = [\"AGEP\", \"WKHP\"]\n",
    "categorical_features = [\"COW\", \"SCHL\", \"MAR\", \"OCCP\", \"POBP\", \"RELP\", \"SEX\", \"RAC1P\"]\n",
    "\n",
    "preprocessor = ColumnTransformer(transformers=[('num', RobustScaler(),numeric_features),\n",
    "                                              ('cat', OneHotEncoder(handle_unknown='ignore'),categorical_features)])\n",
    "modelSVM = Pipeline([('preprocessor',preprocessor),('classifier', SVC())])\n",
    "modelSVM"
   ]
  },
  {
   "cell_type": "code",
   "execution_count": 10,
   "id": "9a51c445",
   "metadata": {},
   "outputs": [],
   "source": [
    "param_grid_SVC = {\n",
    "    'classifier__C' : [0.001, 0.01, 0.1, 1, 10, 100, 1000],\n",
    "    'classifier__kernel' : ['rbf','poly','sigmoid'],\n",
    "    'classifier__shrinking' : [True, False]\n",
    "}\n",
    "\n",
    "grid_SVC = GridSearchCV(modelSVM,param_grid_SVC, cv = 5)"
   ]
  },
  {
   "cell_type": "code",
   "execution_count": null,
   "id": "cb6253c0",
   "metadata": {},
   "outputs": [],
   "source": [
    "# Divisez les données en un ensemble d'entraînement (80%) et un ensemble de test (20%)\n",
    "X_train, X_test, y_train, y_test = train_test_split(X, y, test_size=0.2, random_state=42)\n",
    "\n",
    "# Affichez la taille des ensembles d'entraînement et de test\n",
    "print(\"Taille de l'ensemble d'entraînement :\", len(X_train))\n",
    "print(\"Taille de l'ensemble de test :\", len(X_test))\n"
   ]
  }
 ],
 "metadata": {
  "kernelspec": {
   "display_name": "Python 3 (ipykernel)",
   "language": "python",
   "name": "python3"
  },
  "language_info": {
   "codemirror_mode": {
    "name": "ipython",
    "version": 3
   },
   "file_extension": ".py",
   "mimetype": "text/x-python",
   "name": "python",
   "nbconvert_exporter": "python",
   "pygments_lexer": "ipython3",
   "version": "3.9.13"
  }
 },
 "nbformat": 4,
 "nbformat_minor": 5
}
